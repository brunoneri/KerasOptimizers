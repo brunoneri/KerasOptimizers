{
  "nbformat": 4,
  "nbformat_minor": 0,
  "metadata": {
    "colab": {
      "name": "keras_optimizer colab.ipynb",
      "provenance": [],
      "collapsed_sections": [],
      "include_colab_link": true
    },
    "kernelspec": {
      "name": "python3",
      "display_name": "Python 3"
    },
    "accelerator": "GPU"
  },
  "cells": [
    {
      "cell_type": "markdown",
      "metadata": {
        "id": "view-in-github",
        "colab_type": "text"
      },
      "source": [
        "<a href=\"https://colab.research.google.com/github/brunoneri/KerasOptimizers/blob/master/keras_optimizer_colab.ipynb\" target=\"_parent\"><img src=\"https://colab.research.google.com/assets/colab-badge.svg\" alt=\"Open In Colab\"/></a>"
      ]
    },
    {
      "cell_type": "code",
      "metadata": {
        "id": "y83v7fOyWOR5",
        "colab_type": "code",
        "colab": {}
      },
      "source": [
        "!pip install tensorflow==2.0.0\n"
      ],
      "execution_count": 0,
      "outputs": []
    },
    {
      "cell_type": "code",
      "metadata": {
        "id": "vEP78-O7WtxU",
        "colab_type": "code",
        "colab": {}
      },
      "source": [
        "\n",
        "import tensorflow as tf\n",
        "from tensorflow import keras\n",
        "assert tf.__version__ >= \"2.0\"\n",
        "\n",
        "import numpy as np\n",
        "\n",
        "%matplotlib inline\n",
        "import matplotlib as mpl\n",
        "import matplotlib.pyplot as plt\n",
        "\n"
      ],
      "execution_count": 0,
      "outputs": []
    },
    {
      "cell_type": "code",
      "metadata": {
        "id": "yH7wn61e4Ao6",
        "colab_type": "code",
        "colab": {}
      },
      "source": [
        "def plot_diagnostic(history, opt_label):\n",
        "  train_label='{} train'.format(opt_label)\n",
        "  val_label= '{} val'.format(opt_label)\n",
        "  #plot loss  \n",
        "  plt.figure(figsize=(10,5))\n",
        "  plt.title('Cross Entropy Loss') \n",
        "  plt.xlabel('epoch')\n",
        "  plt.ylabel('loss') \n",
        "  plt.plot(history.history['loss'], color='pink', label= train_label)\n",
        "  plt.plot(history.history['val_loss'], color='gray', label=val_label)\n",
        "  plt.legend([train_label,val_label], loc='upper right')\n",
        "  # plot accuracy\n",
        "  plt.show()\n",
        "  plt.figure(figsize=(10,5))\n",
        "  plt.title('Classification Accuracy')\n",
        "  plt.xlabel('epochs')\n",
        "  plt.ylabel('accuracy')\n",
        "  plt.plot(history.history['accuracy'], color='pink', label=train_label)\n",
        "  plt.plot(history.history['val_accuracy'], color='gray', label=val_label)\n",
        "  plt.legend([train_label,val_label], loc='lower right')\n",
        "  plt.show()"
      ],
      "execution_count": 0,
      "outputs": []
    },
    {
      "cell_type": "markdown",
      "metadata": {
        "id": "EVrN4yqWJTPQ",
        "colab_type": "text"
      },
      "source": [
        "Caricamento del dataset Fashion MINST  "
      ]
    },
    {
      "cell_type": "code",
      "metadata": {
        "id": "4yKKLPZjVhL_",
        "colab_type": "code",
        "colab": {}
      },
      "source": [
        "NUM_CLASSES = 10\n",
        "\n",
        "(x_train, y_train), (x_test, y_test) = keras.datasets.fashion_mnist.load_data()\n",
        "#Normalizzazione delle dati delle immagini \n",
        "x_train= x_train.astype('float32') / 255.0\n",
        "x_test = x_test.astype('float32') / 255.0\n"
      ],
      "execution_count": 0,
      "outputs": []
    },
    {
      "cell_type": "markdown",
      "metadata": {
        "id": "yq68xMXeJe8a",
        "colab_type": "text"
      },
      "source": [
        "Preparazione dei training e validation set."
      ]
    },
    {
      "cell_type": "code",
      "metadata": {
        "id": "1ShU787gZZg0",
        "colab_type": "code",
        "colab": {}
      },
      "source": [
        "#Splitting del training set: i primi 55000 esempi di training e gli 5000 esempi di validazione\n",
        "(x_train, x_valid) = x_train[5000:], x_train[:5000] \n",
        "(y_train, y_valid) = y_train[5000:], y_train[:5000]\n",
        "\n",
        "#Reshaping del dataset per adattarlo all'input layer delle CNN\n",
        "w, h = 28, 28\n",
        "x_train = x_train.reshape(x_train.shape[0], w, h, 1)\n",
        "x_valid = x_valid.reshape(x_valid.shape[0], w, h, 1)\n",
        "x_test = x_test.reshape(x_test.shape[0], w, h, 1)\n",
        "\n",
        "#One-hot-encoding delle label\n",
        "y_train = tf.keras.utils.to_categorical(y_train, NUM_CLASSES)\n",
        "y_valid = tf.keras.utils.to_categorical(y_valid, NUM_CLASSES)\n",
        "y_test = tf.keras.utils.to_categorical(y_test, NUM_CLASSES)\n",
        "\n",
        "\n",
        "print(\"x_train shape:\", x_train.shape, \"y_train shape:\", y_train.shape)\n",
        "\n",
        "\n",
        "print(x_train.shape[0], 'train set')\n",
        "print(x_valid.shape[0], 'validation set')\n",
        "print(x_test.shape[0], 'test set')"
      ],
      "execution_count": 0,
      "outputs": []
    },
    {
      "cell_type": "markdown",
      "metadata": {
        "id": "0XzerpXpJ3mR",
        "colab_type": "text"
      },
      "source": [
        "Implementazione del modello di Convolutional neural network"
      ]
    },
    {
      "cell_type": "code",
      "metadata": {
        "id": "BNNzFUymYKH9",
        "colab_type": "code",
        "colab": {}
      },
      "source": [
        "tf.random.set_seed(42)\n",
        "np.random.seed(42)\n",
        "\n",
        "model = keras.models.Sequential([\n",
        "    #Primo layer convoluzionale\n",
        "    keras.layers.Conv2D(filters=64, kernel_size=2, padding='same', activation='relu', input_shape=(28,28,1)),\n",
        "    keras.layers.MaxPooling2D(pool_size=2),\n",
        "    keras.layers.Dropout(0.3),\n",
        "    #Secondo layer convoluzionale\n",
        "    keras.layers.Conv2D(filters=32, kernel_size=2, padding='same', activation='relu'),\n",
        "    keras.layers.MaxPooling2D(pool_size=2),\n",
        "    keras.layers.Dropout(0.3),\n",
        "    #Flattening\n",
        "    keras.layers.Flatten(),\n",
        "    #Full connection layer\n",
        "    keras.layers.Dense(256, activation='relu'),\n",
        "    keras.layers.Dropout(0.5),\n",
        "    keras.layers.Dense(NUM_CLASSES, activation='softmax')\n",
        "])\n",
        "\n",
        "model.summary()"
      ],
      "execution_count": 0,
      "outputs": []
    },
    {
      "cell_type": "markdown",
      "metadata": {
        "id": "TMkKNuNIZd4P",
        "colab_type": "text"
      },
      "source": [
        "Addestramento della CNN con l'utilizzo dell'ottimizzatore SGD"
      ]
    },
    {
      "cell_type": "code",
      "metadata": {
        "id": "uPuxaMPPYTe2",
        "colab_type": "code",
        "colab": {}
      },
      "source": [
        "model.compile(loss=\"categorical_crossentropy\",\n",
        "              optimizer=keras.optimizers.SGD(lr=0.001),\n",
        "              metrics=[\"accuracy\"])\n"
      ],
      "execution_count": 0,
      "outputs": []
    },
    {
      "cell_type": "code",
      "metadata": {
        "id": "yKsxpNksYcUu",
        "colab_type": "code",
        "colab": {}
      },
      "source": [
        "history_sgd = model.fit(x_train, y_train, epochs=10,batch_size=64,\n",
        "                    validation_data=(x_valid, y_valid))"
      ],
      "execution_count": 0,
      "outputs": []
    },
    {
      "cell_type": "code",
      "metadata": {
        "id": "K63zqv5MZjiD",
        "colab_type": "code",
        "colab": {}
      },
      "source": [
        "plot_diagnostic(history_sgd,\"sgd\")"
      ],
      "execution_count": 0,
      "outputs": []
    },
    {
      "cell_type": "markdown",
      "metadata": {
        "id": "G3HWeoyUZss3",
        "colab_type": "text"
      },
      "source": [
        "Addestramento della CNN con l'utilizzo dell'ottimizzatore SGD e del momentum"
      ]
    },
    {
      "cell_type": "code",
      "metadata": {
        "id": "6c26FbPVhoPH",
        "colab_type": "code",
        "colab": {}
      },
      "source": [
        "model.compile(loss=\"categorical_crossentropy\",\n",
        "              optimizer=keras.optimizers.SGD(lr=0.001, momentum=0.9),\n",
        "              metrics=[\"accuracy\"])"
      ],
      "execution_count": 0,
      "outputs": []
    },
    {
      "cell_type": "code",
      "metadata": {
        "id": "kN234C0JaHKo",
        "colab_type": "code",
        "colab": {}
      },
      "source": [
        "history_momentum = model.fit(x_train, y_train, epochs=10,batch_size=64,\n",
        "                    validation_data=(x_valid, y_valid))"
      ],
      "execution_count": 0,
      "outputs": []
    },
    {
      "cell_type": "code",
      "metadata": {
        "id": "RDB8R_OPaAqR",
        "colab_type": "code",
        "colab": {}
      },
      "source": [
        "plot_diagnostic(history_momentum,\"Momentum\")"
      ],
      "execution_count": 0,
      "outputs": []
    },
    {
      "cell_type": "markdown",
      "metadata": {
        "id": "NPx9UINma38b",
        "colab_type": "text"
      },
      "source": [
        "Addestramento della CNN con l'utilizzo dell'ottimizzatore SGD ed il momento di \n",
        "Nesterov\n"
      ]
    },
    {
      "cell_type": "code",
      "metadata": {
        "colab_type": "code",
        "id": "XFFphLKFaGLb",
        "colab": {}
      },
      "source": [
        "model.compile(loss=\"categorical_crossentropy\",\n",
        "              optimizer=keras.optimizers.SGD(lr=0.001, momentum=0.9, nesterov=True),\n",
        "              metrics=[\"accuracy\"])\n"
      ],
      "execution_count": 0,
      "outputs": []
    },
    {
      "cell_type": "code",
      "metadata": {
        "id": "Or6K57FCbKZE",
        "colab_type": "code",
        "colab": {}
      },
      "source": [
        "history_momentum_nesterov = model.fit(x_train, y_train, epochs=10,batch_size=64,\n",
        "                    validation_data=(x_valid, y_valid))\n"
      ],
      "execution_count": 0,
      "outputs": []
    },
    {
      "cell_type": "code",
      "metadata": {
        "id": "81LeUM6saV73",
        "colab_type": "code",
        "colab": {}
      },
      "source": [
        "plot_diagnostic(history_momentum_nesterov,\"Nesterov\")"
      ],
      "execution_count": 0,
      "outputs": []
    },
    {
      "cell_type": "markdown",
      "metadata": {
        "id": "6sdUrj1ub47S",
        "colab_type": "text"
      },
      "source": [
        "Addestramento della CNN con l'utilizzo dell'ottimizzatore RMSProp "
      ]
    },
    {
      "cell_type": "code",
      "metadata": {
        "id": "IXnUc8_Lb9Mj",
        "colab_type": "code",
        "colab": {}
      },
      "source": [
        "model.compile(loss=\"categorical_crossentropy\",\n",
        "              optimizer=keras.optimizers.RMSprop(lr=0.001, rho=0.9),\n",
        "              metrics=[\"accuracy\"])\n"
      ],
      "execution_count": 0,
      "outputs": []
    },
    {
      "cell_type": "code",
      "metadata": {
        "id": "AtVAEk-Ob_03",
        "colab_type": "code",
        "colab": {}
      },
      "source": [
        "history_rmsprop = model.fit(x_train, y_train, epochs=10,batch_size=64,\n",
        "                    validation_data=(x_valid, y_valid))\n"
      ],
      "execution_count": 0,
      "outputs": []
    },
    {
      "cell_type": "code",
      "metadata": {
        "id": "44WnPVxZaoTN",
        "colab_type": "code",
        "colab": {}
      },
      "source": [
        "plot_diagnostic(history_rmsprop,\"RMSProp\")"
      ],
      "execution_count": 0,
      "outputs": []
    },
    {
      "cell_type": "markdown",
      "metadata": {
        "id": "2QeR5OYndNdZ",
        "colab_type": "text"
      },
      "source": [
        "Addestramento della CNN con l'utilizzo dell'ottimizzatore Adam"
      ]
    },
    {
      "cell_type": "code",
      "metadata": {
        "id": "XWw8f9krdMMy",
        "colab_type": "code",
        "colab": {}
      },
      "source": [
        "model.compile(loss=\"categorical_crossentropy\",\n",
        "              optimizer=keras.optimizers.Adam(lr=0.001, beta_1=0.9, beta_2=0.999),\n",
        "              metrics=[\"accuracy\"])\n"
      ],
      "execution_count": 0,
      "outputs": []
    },
    {
      "cell_type": "code",
      "metadata": {
        "id": "-SxjKI0hdSd_",
        "colab_type": "code",
        "colab": {}
      },
      "source": [
        "from keras.callbacks import ModelCheckpoint\n",
        "\n",
        "checkpointer = ModelCheckpoint(filepath='model.weights.best.hdf5', verbose = 1, save_best_only=True)\n",
        "\n",
        "history_adam = model.fit(x_train, y_train, epochs=10,batch_size=64,\n",
        "                    validation_data=(x_valid, y_valid), callbacks=[checkpointer])\n"
      ],
      "execution_count": 0,
      "outputs": []
    },
    {
      "cell_type": "code",
      "metadata": {
        "id": "nQthLDQszlRS",
        "colab_type": "code",
        "colab": {}
      },
      "source": [
        "plot_diagnostic(history_adam,\"Adam\")"
      ],
      "execution_count": 0,
      "outputs": []
    },
    {
      "cell_type": "markdown",
      "metadata": {
        "id": "6KcncUNDKpXa",
        "colab_type": "text"
      },
      "source": [
        "Visualizzazione delle curve di apprendimento (loss e accuracy)"
      ]
    },
    {
      "cell_type": "code",
      "metadata": {
        "id": "pWuYuSnMf9zB",
        "colab_type": "code",
        "colab": {}
      },
      "source": [
        "# plot learning curves\n",
        "plt.figure(figsize=(10,5))\n",
        "plt.title('Cross Entropy Loss')\n",
        "plt.xlabel('epoch')\n",
        "plt.ylabel('loss')\n",
        "plt.plot(history_sgd.history['loss'], color='blue', label='SGD train')\n",
        "plt.plot(history_sgd.history['val_loss'], color='orange', label='SGD val')\n",
        "plt.plot(history_momentum.history['loss'], color='green', label='Momentum train')\n",
        "plt.plot(history_momentum.history['val_loss'], color='red', label='Momentum val')\n",
        "plt.plot(history_momentum_nesterov.history['loss'], color='purple', label='Nesterov train')\n",
        "plt.plot(history_momentum_nesterov.history['val_loss'], color='brown', label='Nesterov val')\n",
        "plt.plot(history_rmsprop.history['loss'], color='pink', label='RMSProp train')\n",
        "plt.plot(history_rmsprop.history['val_loss'], color='gray', label='RMSProp val')\n",
        "plt.plot(history_adam.history['loss'], color='olive', label='Adam train')\n",
        "plt.plot(history_adam.history['val_loss'], color='cyan', label='Adam val')\n",
        "plt.legend(['SGD train', 'SGD val','Momentum train','Momentum val','Nesterov train', 'Nesterov val','RMSProp train','RMSProp val','Adam train', 'Adam val'], loc='upper right')\n",
        "# plot accuracy\n",
        "plt.show()\n",
        "plt.figure(figsize=(10,5))\n",
        "plt.title('Classification Accuracy')\n",
        "plt.xlabel('epochs')\n",
        "plt.ylabel('accuracy')\n",
        "plt.plot(history_sgd.history['accuracy'], color='blue', label='SGD train')\n",
        "plt.plot(history_sgd.history['val_accuracy'], color='orange', label='SGD val')\n",
        "plt.plot(history_momentum.history['accuracy'], color='green', label='Momentum train')\n",
        "plt.plot(history_momentum.history['val_accuracy'], color='red', label='Momentum val')\n",
        "plt.plot(history_momentum_nesterov.history['accuracy'], color='purple', label='Nesterov train')\n",
        "plt.plot(history_momentum_nesterov.history['val_accuracy'], color='brown', label='Nesterov val')\n",
        "plt.plot(history_rmsprop.history['accuracy'], color='pink', label='RMSProp train')\n",
        "plt.plot(history_rmsprop.history['val_accuracy'], color='gray', label='RMSProp val')\n",
        "plt.plot(history_adam.history['accuracy'], color='olive', label='Adam train')\n",
        "plt.plot(history_adam.history['val_accuracy'], color='cyan', label='Adam val')\n",
        "plt.legend(['SGD train', 'SGD val','Momentum train','Momentum val','Nesterov train', 'Nesterov val','RMSProp train','RMSProp val','Adam train', 'Adam val'], loc='lower right')\n",
        "plt.show()"
      ],
      "execution_count": 0,
      "outputs": []
    },
    {
      "cell_type": "markdown",
      "metadata": {
        "id": "xl0lur_unf5L",
        "colab_type": "text"
      },
      "source": [
        "Valutazione del modello mediante il test set. "
      ]
    },
    {
      "cell_type": "code",
      "metadata": {
        "id": "F6QYjjMcP0bH",
        "colab_type": "code",
        "colab": {}
      },
      "source": [
        "\n",
        "model.load_weights('model.weights.best.hdf5')"
      ],
      "execution_count": 0,
      "outputs": []
    },
    {
      "cell_type": "code",
      "metadata": {
        "id": "4f-iFoFtNq--",
        "colab_type": "code",
        "colab": {}
      },
      "source": [
        "# Valutazione del modello con il test set\n",
        "score = model.evaluate(x_test, y_test, verbose=0)\n",
        "\n",
        "print('\\n', 'Test accuracy:', score[1])"
      ],
      "execution_count": 0,
      "outputs": []
    },
    {
      "cell_type": "code",
      "metadata": {
        "id": "qr9j8iOFgMZo",
        "colab_type": "code",
        "colab": {}
      },
      "source": [
        "# Etichette del dataset\n",
        "fashion_mnist_labels = [\"T-shirt/top\",  # index 0\n",
        "                        \"Trouser\",      # index 1\n",
        "                        \"Pullover\",     # index 2 \n",
        "                        \"Dress\",        # index 3 \n",
        "                        \"Coat\",         # index 4\n",
        "                        \"Sandal\",       # index 5\n",
        "                        \"Shirt\",        # index 6 \n",
        "                        \"Sneaker\",      # index 7 \n",
        "                        \"Bag\",          # index 8 \n",
        "                        \"Ankle boot\"]   # index 9\n",
        "\n",
        "\n",
        "y_hat = model.predict(x_test)\n",
        "\n",
        "# Visualizzazine di 10 immagini campione del dataset di test con il relativo risultato della classificazione\n",
        "figure = plt.figure(figsize=(20, 8))\n",
        "for i, index in enumerate(np.random.choice(x_test.shape[0], size=15, replace=False)):\n",
        "    ax = figure.add_subplot(3, 5, i + 1, xticks=[], yticks=[])\n",
        "    ax.imshow(np.squeeze(x_test[index]))\n",
        "    predict_index = np.argmax(y_hat[index])\n",
        "    true_index = np.argmax(y_test[index])\n",
        "  \n",
        "    ax.set_title(\"{} ({})\".format(fashion_mnist_labels[predict_index], \n",
        "                                  fashion_mnist_labels[true_index]),\n",
        "                                  color=(\"green\" if predict_index == true_index else \"red\"))"
      ],
      "execution_count": 0,
      "outputs": []
    }
  ]
}